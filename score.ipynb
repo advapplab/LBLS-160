{
 "cells": [
  {
   "cell_type": "code",
   "execution_count": 1,
   "id": "a07e0f1d",
   "metadata": {},
   "outputs": [],
   "source": [
    "import pandas as pd\n",
    "import hashlib as hb"
   ]
  },
  {
   "cell_type": "code",
   "execution_count": 2,
   "metadata": {},
   "outputs": [
    {
     "name": "stdout",
     "output_type": "stream",
     "text": [
      "Requirement already satisfied: openpyxl in /usr/local/lib/python3.8/dist-packages (3.0.10)\n",
      "Requirement already satisfied: et-xmlfile in /usr/local/lib/python3.8/dist-packages (from openpyxl) (1.1.0)\n",
      "\u001b[33mWARNING: You are using pip version 20.2.4; however, version 22.2.2 is available.\n",
      "You should consider upgrading via the '/usr/bin/python3 -m pip install --upgrade pip' command.\u001b[0m\n"
     ]
    }
   ],
   "source": [
    "! pip3 install openpyxl"
   ]
  },
  {
   "cell_type": "code",
   "execution_count": 3,
   "id": "c5bd816f",
   "metadata": {},
   "outputs": [],
   "source": [
    "score_1092ncu_a = pd.read_excel('./data/1092_NCU/A班總成績.xlsx')\n",
    "score_1092ncu_b = pd.read_excel('./data/1092_NCU/B班總成績.xlsx')\n",
    "\n",
    "score_1101ntut = pd.read_excel('./data/1101_NTUT/1101_北科_成績.xlsx', sheet_name='統整')\n",
    "score_1102ncu = pd.read_excel('./data/1102_NCU/1102_成績.xlsx', sheet_name='學期分數試算')"
   ]
  },
  {
   "cell_type": "code",
   "execution_count": 4,
   "id": "74b2eb77",
   "metadata": {},
   "outputs": [],
   "source": [
    "score_1092ncu_a = score_1092ncu_a[['學號','總成績']].dropna(axis = 0,how='all')\n",
    "score_1092ncu_b = score_1092ncu_b[['學號','總成績']].dropna(axis = 0,how='all')\n",
    "\n",
    "score_1101ntut = score_1101ntut[['id','總成績']].dropna(axis = 0,how='all')\n",
    "score_1101ntut = score_1101ntut[score_1101ntut['id'].notna()]\n",
    "score_1101ntut = score_1101ntut.rename({'id': '學號'}, axis='columns')\n",
    "\n",
    "score_1102ncu = score_1102ncu[['id','總成績']].dropna(axis = 0,how='all')\n",
    "score_1102ncu = score_1102ncu[score_1102ncu['id'].notna()]\n",
    "score_1102ncu = score_1102ncu.rename({'id': '學號'}, axis='columns')"
   ]
  },
  {
   "cell_type": "code",
   "execution_count": 5,
   "metadata": {},
   "outputs": [],
   "source": [
    "score_1092ncu_a['class'] = 'a'\n",
    "score_1092ncu_b['class'] = 'b'\n",
    "score_1101ntut['class'] = 'c'\n",
    "score_1102ncu['class'] = 'd'"
   ]
  },
  {
   "cell_type": "code",
   "execution_count": 6,
   "id": "be22b199",
   "metadata": {},
   "outputs": [
    {
     "name": "stderr",
     "output_type": "stream",
     "text": [
      "/usr/local/lib/python3.8/dist-packages/pandas/core/reshape/merge.py:916: FutureWarning: In a future version, the Index constructor will not infer numeric dtypes when passed object-dtype sequences (matching Series behavior)\n",
      "  key_col = Index(lvals).where(~mask_left, rvals)\n"
     ]
    }
   ],
   "source": [
    "score_df = pd.merge(score_1092ncu_a, score_1092ncu_b, how = 'outer')\n",
    "score_df = pd.merge(score_df, score_1101ntut, how = 'outer')\n",
    "score_df = pd.merge(score_df, score_1102ncu, how = 'outer')\n",
    "\n",
    "score_df.columns = ['id','score', 'class']"
   ]
  },
  {
   "cell_type": "code",
   "execution_count": 7,
   "id": "3675d5ca",
   "metadata": {},
   "outputs": [],
   "source": [
    "score_df['score'] = score_df['score'].round(0).astype(int)\n",
    "\n",
    "score_df['id'] = score_df['id'].astype('str').str.split('.', 0, expand=True)[0]\n",
    "\n",
    "score_df.loc[score_df.score >=100,'score'] = 100"
   ]
  },
  {
   "cell_type": "code",
   "execution_count": 8,
   "id": "34e978eb",
   "metadata": {
    "scrolled": false
   },
   "outputs": [],
   "source": [
    "def md5(i):\n",
    "    hl = hb.md5()\n",
    "    \n",
    "    hl.update(str(i).encode(encoding='utf-8'))\n",
    "\n",
    "    #print('加密前為 ：' + str(i))\n",
    "    #print('加密後為 ：' + hl.hexdigest())\n",
    "    \n",
    "    return hl.hexdigest()\n",
    "\n",
    "score_df['id'] = score_df['id'].apply(md5)"
   ]
  },
  {
   "cell_type": "code",
   "execution_count": 9,
   "id": "afcc3116",
   "metadata": {},
   "outputs": [],
   "source": [
    "score_df = score_df.rename(columns={'id': 'userid'})"
   ]
  },
  {
   "cell_type": "code",
   "execution_count": 10,
   "id": "8c1c534b",
   "metadata": {},
   "outputs": [],
   "source": [
    "score_df.to_csv('./output/score.csv', encoding='utf8', index=False) "
   ]
  },
  {
   "cell_type": "code",
   "execution_count": 11,
   "id": "4c5154bd",
   "metadata": {},
   "outputs": [
    {
     "data": {
      "text/plain": [
       "(198, 3)"
      ]
     },
     "execution_count": 11,
     "metadata": {},
     "output_type": "execute_result"
    }
   ],
   "source": [
    "score_df.shape"
   ]
  },
  {
   "cell_type": "code",
   "execution_count": 17,
   "id": "ce774a3a",
   "metadata": {},
   "outputs": [
    {
     "data": {
      "text/plain": [
       "(41, 3)"
      ]
     },
     "execution_count": 17,
     "metadata": {},
     "output_type": "execute_result"
    }
   ],
   "source": [
    "score_df[score_df['class'] == 'd'].shape"
   ]
  },
  {
   "cell_type": "code",
   "execution_count": null,
   "metadata": {},
   "outputs": [],
   "source": []
  }
 ],
 "metadata": {
  "kernelspec": {
   "display_name": "Python 3",
   "language": "python",
   "name": "python3"
  },
  "language_info": {
   "codemirror_mode": {
    "name": "ipython",
    "version": 3
   },
   "file_extension": ".py",
   "mimetype": "text/x-python",
   "name": "python",
   "nbconvert_exporter": "python",
   "pygments_lexer": "ipython3",
   "version": "3.8.10"
  }
 },
 "nbformat": 4,
 "nbformat_minor": 5
}
