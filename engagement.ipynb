{
 "cells": [
  {
   "cell_type": "code",
   "execution_count": 1,
   "metadata": {},
   "outputs": [],
   "source": [
    "import pandas as pd\n",
    "import hashlib as hb"
   ]
  },
  {
   "cell_type": "code",
   "execution_count": 2,
   "metadata": {},
   "outputs": [],
   "source": [
    "engagement_a_post = pd.read_csv('./data/問卷A班/1092參與度問卷後測_A班.csv')\n",
    "engagement_a_pre = pd.read_csv('./data/問卷A班/1092專注度&參與度問卷_A班.csv')\n",
    "\n",
    "engagement_b_post = pd.read_csv('./data/問卷B班/1092參與度問卷後測_B班.csv')\n",
    "engagement_b_pre = pd.read_csv('./data/問卷B班/1092專注度&參與度問卷_B班.csv')"
   ]
  },
  {
   "cell_type": "code",
   "execution_count": 3,
   "metadata": {},
   "outputs": [],
   "source": [
    "def md5(i):\n",
    "    hl = hb.md5()\n",
    "    \n",
    "    hl.update(str(i).encode(encoding='utf-8'))\n",
    "\n",
    "    #print('加密前為 ：' + str(i))\n",
    "    #print('加密後為 ：' + hl.hexdigest())\n",
    "    \n",
    "    return hl.hexdigest()\n"
   ]
  },
  {
   "cell_type": "code",
   "execution_count": 4,
   "metadata": {},
   "outputs": [],
   "source": [
    "\n",
    "engagement_a_post['學號'] = engagement_a_post['學號'].apply(md5)\n",
    "engagement_a_pre['學號'] = engagement_a_pre['學號'].apply(md5)\n",
    "engagement_b_post['學號'] = engagement_b_post['學號'].apply(md5)\n",
    "engagement_b_pre['學號'] = engagement_b_pre['學號'].apply(md5)"
   ]
  },
  {
   "cell_type": "code",
   "execution_count": 5,
   "metadata": {},
   "outputs": [],
   "source": [
    "engagement_a_post.rename(columns={'學號': 'userid'}, inplace=True)\n",
    "engagement_a_pre.rename(columns={'學號': 'userid'}, inplace=True)\n",
    "engagement_b_post.rename(columns={'學號': 'userid'}, inplace=True)\n",
    "engagement_b_pre.rename(columns={'學號': 'userid'}, inplace=True)"
   ]
  },
  {
   "cell_type": "code",
   "execution_count": 6,
   "metadata": {},
   "outputs": [],
   "source": [
    "engagement_a_post_e = engagement_a_post[list(engagement_a_post)[3:-9]]\n",
    "engagement_a_pre_e = engagement_a_pre[list(engagement_a_pre)[4:]]\n",
    "engagement_b_post_e = engagement_b_post[list(engagement_b_post)[3:-9]]\n",
    "engagement_b_pre_e = engagement_b_pre[list(engagement_b_pre)[4:]]"
   ]
  },
  {
   "cell_type": "code",
   "execution_count": null,
   "metadata": {},
   "outputs": [],
   "source": []
  },
  {
   "cell_type": "code",
   "execution_count": null,
   "metadata": {},
   "outputs": [],
   "source": []
  },
  {
   "cell_type": "code",
   "execution_count": 7,
   "metadata": {},
   "outputs": [],
   "source": [
    "def set_header (input_pd):\n",
    "\n",
    "    l = list(input_pd)\n",
    "\n",
    "    l = [i.split('.', 1)[0] for i in l]\n",
    "    \n",
    "    return l\n"
   ]
  },
  {
   "cell_type": "code",
   "execution_count": 8,
   "metadata": {},
   "outputs": [],
   "source": [
    "engagement_a_post_e = engagement_a_post_e.set_axis(set_header(engagement_a_post_e), axis=1)\n",
    "engagement_a_pre_e = engagement_a_pre_e.set_axis(set_header(engagement_a_pre_e), axis=1)\n",
    "engagement_b_post_e = engagement_b_post_e.set_axis(set_header(engagement_b_post_e), axis=1)\n",
    "engagement_b_pre_e = engagement_b_pre_e.set_axis(set_header(engagement_b_pre_e), axis=1)\n"
   ]
  },
  {
   "cell_type": "code",
   "execution_count": 9,
   "metadata": {},
   "outputs": [],
   "source": [
    "engagement_a_post_e.index = engagement_a_post_e['userid']\n",
    "engagement_a_pre_e.index = engagement_a_pre_e['userid']\n",
    "engagement_b_post_e.index = engagement_b_post_e['userid']\n",
    "engagement_b_pre_e.index = engagement_b_pre_e['userid']"
   ]
  },
  {
   "cell_type": "code",
   "execution_count": 10,
   "metadata": {},
   "outputs": [],
   "source": [
    "engagement_a_post_e = engagement_a_post_e.drop(columns=['userid'])\n",
    "engagement_a_pre_e = engagement_a_pre_e.drop(columns=['userid'])\n",
    "engagement_b_post_e = engagement_b_post_e.drop(columns=['userid'])\n",
    "engagement_b_pre_e = engagement_b_pre_e.drop(columns=['userid'])"
   ]
  },
  {
   "cell_type": "code",
   "execution_count": 11,
   "metadata": {},
   "outputs": [],
   "source": [
    "# engagement_a_post_e.to_csv('./output/engagement_a_post.csv', encoding='utf8', index=True)\n",
    "# engagement_a_pre_e.to_csv('./output/engagement_a_pre.csv', encoding='utf8', index=True)\n",
    "# engagement_b_post_e.to_csv('./output/engagement_b_post.csv', encoding='utf8', index=True)\n",
    "# engagement_b_pre_e.to_csv('./output/engagement_b_pre.csv', encoding='utf8', index=True)"
   ]
  },
  {
   "cell_type": "code",
   "execution_count": 14,
   "metadata": {},
   "outputs": [
    {
     "name": "stderr",
     "output_type": "stream",
     "text": [
      "<ipython-input-14-3458b0371bfd>:1: FutureWarning: The frame.append method is deprecated and will be removed from pandas in a future version. Use pandas.concat instead.\n",
      "  engagement_post = engagement_a_post_e.append(engagement_b_post_e)\n",
      "<ipython-input-14-3458b0371bfd>:2: FutureWarning: The frame.append method is deprecated and will be removed from pandas in a future version. Use pandas.concat instead.\n",
      "  engagement_pre = engagement_a_pre_e.append(engagement_b_pre_e)\n"
     ]
    }
   ],
   "source": [
    "engagement_post = engagement_a_post_e.append(engagement_b_post_e)\n",
    "engagement_pre = engagement_a_pre_e.append(engagement_b_pre_e)"
   ]
  },
  {
   "cell_type": "code",
   "execution_count": 15,
   "metadata": {},
   "outputs": [],
   "source": [
    "engagement_post.to_csv('./output/engagement_post.csv', encoding='utf8', index=True)\n",
    "engagement_pre.to_csv('./output/engagement_pre.csv', encoding='utf8', index=True)"
   ]
  },
  {
   "cell_type": "code",
   "execution_count": null,
   "metadata": {},
   "outputs": [],
   "source": []
  }
 ],
 "metadata": {
  "kernelspec": {
   "display_name": "Python 3",
   "language": "python",
   "name": "python3"
  },
  "language_info": {
   "codemirror_mode": {
    "name": "ipython",
    "version": 3
   },
   "file_extension": ".py",
   "mimetype": "text/x-python",
   "name": "python",
   "nbconvert_exporter": "python",
   "pygments_lexer": "ipython3",
   "version": "3.8.10"
  }
 },
 "nbformat": 4,
 "nbformat_minor": 2
}
